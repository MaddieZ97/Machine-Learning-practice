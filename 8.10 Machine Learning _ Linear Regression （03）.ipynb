{
 "cells": [
  {
   "cell_type": "markdown",
   "metadata": {},
   "source": [
    "## 实现简单线性回归法 "
   ]
  },
  {
   "cell_type": "code",
   "execution_count": 84,
   "metadata": {},
   "outputs": [],
   "source": [
    "import numpy as np \n",
    "import pandas as pd \n",
    "import matplotlib.pyplot as plt \n",
    "%matplotlib inline"
   ]
  },
  {
   "cell_type": "code",
   "execution_count": 85,
   "metadata": {},
   "outputs": [],
   "source": [
    "x = np.array([1., 2., 3., 4., 5.])    #float\n",
    "y = np.array([1., 3., 2., 3., 5.]) "
   ]
  },
  {
   "cell_type": "code",
   "execution_count": 86,
   "metadata": {},
   "outputs": [
    {
     "data": {
      "text/plain": [
       "[0, 6, 0, 6]"
      ]
     },
     "execution_count": 86,
     "metadata": {},
     "output_type": "execute_result"
    },
    {
     "data": {
      "image/png": "[encoded data removed]",
      "text/plain": [
       "<Figure size 432x288 with 1 Axes>"
      ]
     },
     "metadata": {
      "needs_background": "light"
     },
     "output_type": "display_data"
    }
   ],
   "source": [
    "# first plot scatter 得有一定linear relation \n",
    "plt.scatter(x, y, color = 'g') \n",
    "plt.axis([0, 6, 0, 6])"
   ]
  },
  {
   "cell_type": "code",
   "execution_count": 87,
   "metadata": {},
   "outputs": [],
   "source": [
    "# get mean \n",
    "x_mean = np.mean(x) \n",
    "y_mean = np.mean(y)\n",
    "# vectorized computation \n",
    "# dot product here doesn't matter,cuz x here is a vector not matrix \n",
    "# later in function we need to use dot product \n",
    "# this is element wise:  numerator = np.sum((x-x_mean)*(y-y_mean))\n",
    "numerator = np.sum((x-x_mean).dot(y-y_mean))\n",
    "denominator = np.sum((x-x_mean).dot(x-x_mean))\n",
    "a = numerator/denominator "
   ]
  },
  {
   "cell_type": "code",
   "execution_count": 88,
   "metadata": {},
   "outputs": [
    {
     "data": {
      "text/plain": [
       "0.39999999999999947"
      ]
     },
     "execution_count": 88,
     "metadata": {},
     "output_type": "execute_result"
    }
   ],
   "source": [
    "b = y_mean - a * x_mean\n",
    "b"
   ]
  },
  {
   "cell_type": "code",
   "execution_count": 89,
   "metadata": {},
   "outputs": [
    {
     "name": "stdout",
     "output_type": "stream",
     "text": [
      "a = 0.8, b = 0.39999999999999947\n"
     ]
    }
   ],
   "source": [
    "print(f'a = {a}, b = {b}')"
   ]
  },
  {
   "cell_type": "code",
   "execution_count": 90,
   "metadata": {},
   "outputs": [
    {
     "data": {
      "text/plain": [
       "[<matplotlib.lines.Line2D at 0x1a1ddb09d0>]"
      ]
     },
     "execution_count": 90,
     "metadata": {},
     "output_type": "execute_result"
    },
    {
     "data": {
      "image/png": "[encoded data removed]",
      "text/plain": [
       "<Figure size 432x288 with 1 Axes>"
      ]
     },
     "metadata": {
      "needs_background": "light"
     },
     "output_type": "display_data"
    }
   ],
   "source": [
    "# now we have a and b , plot linear best fit \n",
    "plt.scatter(x, y, color = 'g') \n",
    "plt.axis([0, 6, 0, 6])\n",
    "plt.plot(x, a*x + b, color = 'r')\n",
    "\n",
    "# all plot on plt (name of the graph)"
   ]
  },
  {
   "cell_type": "code",
   "execution_count": 91,
   "metadata": {},
   "outputs": [
    {
     "data": {
      "text/plain": [
       "5.2"
      ]
     },
     "execution_count": 91,
     "metadata": {},
     "output_type": "execute_result"
    }
   ],
   "source": [
    "# predict \n",
    "x_predict = 6\n",
    "y_predict = a * x_predict + b\n",
    "y_predict"
   ]
  },
  {
   "cell_type": "code",
   "execution_count": 92,
   "metadata": {},
   "outputs": [
    {
     "data": {
      "text/plain": [
       "<__main__.Myclass at 0x1a1de82f10>"
      ]
     },
     "execution_count": 92,
     "metadata": {},
     "output_type": "execute_result"
    }
   ],
   "source": [
    "class Myclass: \n",
    "    def __init__(self): \n",
    "        ''' \n",
    "        this instantiation process creates objects with instances \n",
    "        customized to a specific initial state \n",
    "        '''\n",
    "        self.data = [] \n",
    "# so a new initialized instance is x = Myclass() \n",
    "x = Myclass()\n",
    "x"
   ]
  },
  {
   "cell_type": "code",
   "execution_count": 93,
   "metadata": {},
   "outputs": [
    {
     "name": "stdout",
     "output_type": "stream",
     "text": [
      "<class '__main__.Myclass'>\n"
     ]
    }
   ],
   "source": [
    "class Myclass: \n",
    "    def __init__(self, a, b): \n",
    "        ''' \n",
    "        this instantiation process creates objects with instances \n",
    "        customized to a specific initial state \n",
    "        '''\n",
    "        self._r = a \n",
    "        self._i = b \n",
    "# so a new initialized instance is x = Myclass(2,3)\n",
    "x = Myclass(2,3)    #  x type is MyClass \n",
    "x._r \n",
    "x._i\n",
    "print(type(x))"
   ]
  },
  {
   "cell_type": "code",
   "execution_count": 94,
   "metadata": {},
   "outputs": [
    {
     "data": {
      "text/plain": [
       "'Fido'"
      ]
     },
     "execution_count": 94,
     "metadata": {},
     "output_type": "execute_result"
    }
   ],
   "source": [
    "class Dog:\n",
    "\n",
    "    kind = 'canine'         # class variable shared by all instances\n",
    "\n",
    "    def __init__(self, name):\n",
    "        self.name = name    # instance variable unique to each instance\n",
    "\n",
    "d = Dog('Fido')    \n",
    "e = Dog('Mao')\n",
    "d.kind  # gives 'canine'\n",
    "e.kind   # gives 'canine'\n",
    "d.name #diff from e.name "
   ]
  },
  {
   "cell_type": "markdown",
   "metadata": {},
   "source": [
    "## 封装自己的simple linear regression (SLR) "
   ]
  },
  {
   "cell_type": "code",
   "execution_count": 95,
   "metadata": {},
   "outputs": [],
   "source": [
    "class SimLinear: \n",
    "    def __init__(self):\n",
    "        '''\n",
    "        初始化 Simple linear regression model\n",
    "        '''\n",
    "        self._a = None \n",
    "        self._b = None \n",
    "        \n",
    "    def fit(self, x_train, y_train): \n",
    "        '''\n",
    "        Simple linear regression \n",
    "        training parameters\n",
    "        :param x_train: training matrix x \n",
    "        :param y_train: training x corresponding 的y \n",
    "        :return: machine learning self \n",
    "        '''\n",
    "        \"\"\"根据训练数据集x_train,y_train训练Simple Linear Regression模型\"\"\"\n",
    "        assert x_train.ndim == 1, \\\n",
    "            \"Simple Linear Regressor can only solve single feature training data.\"\n",
    "        assert len(x_train) == len(y_train), \\\n",
    "            \"the size of x_train must be equal to the size of y_train\"\n",
    "        # calculate mean \n",
    "        x_mean = np.mean(x_train) \n",
    "        y_mean = np.mean(y_train)\n",
    "        # vectorized computation to get parameters \n",
    "        # note!!! \n",
    "        # dot product!!! \n",
    "        # if use (...)*(...) this is element-wise multiplication\n",
    "        numerator = np.sum((x_train-x_mean).dot(y_train-y_mean))\n",
    "        #denominator = np.sum((x_train-x_mean)**2)\n",
    "        denominator = np.sum((x_train-x_mean).dot(x_train-x_mean))\n",
    "        self._a = numerator/denominator y\n",
    "        # self._a is scalar \n",
    "        self._b = y_mean - self._a * x_mean \n",
    "        # does not return anything \n",
    "        \n",
    "    def predict(self, x_test): \n",
    "        '''\n",
    "        function: \n",
    "        return the predicted y value \n",
    "        :param x_test: test x dataset \n",
    "        :return: return predicted dataset in a numpy.array\n",
    "        '''\n",
    "        res = np.array([self.mysingle(i) for i in x_test]) \n",
    "        return res \n",
    "    \n",
    "    def mysingle(self, x): \n",
    "        '''\n",
    "        给定单个待预测数据x_single，返回x_single对应的预测结果值\n",
    "        '''\n",
    "        # self._a is scalar, so we can use multiply \n",
    "        return self._a * x + self._b\n",
    "    \n",
    "    def mse(predict_y, y_test): \n",
    "        return (np.sum(( y_test - predict_y)**2))/len(y_test)\n",
    "    def rmse(predict_y, y_test): \n",
    "        return np.sqrt ((np.sum((y_test - predict_y)**2))/len(y_test))\n",
    "    def mae(predict_y, y_test): \n",
    "        return (np.sum(np.absolute(y_test - predict_y)))/len(y_test)"
   ]
  },
  {
   "cell_type": "code",
   "execution_count": 96,
   "metadata": {},
   "outputs": [
    {
     "data": {
      "text/plain": [
       "array([0, 1, 2, 3, 4])"
      ]
     },
     "execution_count": 96,
     "metadata": {},
     "output_type": "execute_result"
    }
   ],
   "source": [
    "x = np.arange(5)\n",
    "x"
   ]
  },
  {
   "cell_type": "code",
   "execution_count": 97,
   "metadata": {},
   "outputs": [
    {
     "data": {
      "text/plain": [
       "array([[0],\n",
       "       [1],\n",
       "       [2],\n",
       "       [3],\n",
       "       [4]])"
      ]
     },
     "execution_count": 97,
     "metadata": {},
     "output_type": "execute_result"
    }
   ],
   "source": [
    "y = np.arange(5).reshape(5,-1)\n",
    "y"
   ]
  },
  {
   "cell_type": "code",
   "execution_count": 98,
   "metadata": {},
   "outputs": [
    {
     "data": {
      "text/plain": [
       "array([30])"
      ]
     },
     "execution_count": 98,
     "metadata": {},
     "output_type": "execute_result"
    }
   ],
   "source": [
    "x.dot(y)"
   ]
  },
  {
   "cell_type": "code",
   "execution_count": 99,
   "metadata": {},
   "outputs": [
    {
     "data": {
      "text/plain": [
       "array([[ 0,  0,  0,  0,  0],\n",
       "       [ 0,  1,  2,  3,  4],\n",
       "       [ 0,  2,  4,  6,  8],\n",
       "       [ 0,  3,  6,  9, 12],\n",
       "       [ 0,  4,  8, 12, 16]])"
      ]
     },
     "execution_count": 99,
     "metadata": {},
     "output_type": "execute_result"
    }
   ],
   "source": [
    "x*y"
   ]
  },
  {
   "cell_type": "code",
   "execution_count": 100,
   "metadata": {},
   "outputs": [
    {
     "name": "stdout",
     "output_type": "stream",
     "text": [
      "[5.2]\n"
     ]
    }
   ],
   "source": [
    "if __name__ == '__main__': \n",
    "    x = np.array([1., 2., 3., 4., 5.])    #float\n",
    "    y = np.array([1., 3., 2., 3., 5.]) \n",
    "    # initialize \n",
    "    ln = SimLinear() \n",
    "    # fit with x and y \n",
    "    ln.fit(x, y) \n",
    "    res = ln.predict([6])\n",
    "    print(res)"
   ]
  },
  {
   "cell_type": "code",
   "execution_count": null,
   "metadata": {},
   "outputs": [],
   "source": []
  },
  {
   "cell_type": "markdown",
   "metadata": {},
   "source": [
    "## Boston price case "
   ]
  },
  {
   "cell_type": "code",
   "execution_count": 101,
   "metadata": {},
   "outputs": [
    {
     "name": "stdout",
     "output_type": "stream",
     "text": [
      "[6.575 6.421 7.185] (506,)\n",
      "[24.  21.6 34.7]\n"
     ]
    }
   ],
   "source": [
    "import numpy as np \n",
    "from sklearn import datasets \n",
    "from sklearn.model_selection import train_test_split \n",
    "import matplotlib.pyplot as plt \n",
    "from statsmodels.tools.eval_measures import rmse \n",
    "from sklearn.metrics import mean_squared_error, mean_absolute_error, r2_score\n",
    "\n",
    "from sklearn import datasets \n",
    "df = datasets.load_boston() \n",
    "# fifth col attribute , so x is a vector \n",
    "mdata = df.data[:, 5]\n",
    "print(mdata[:3], mdata.shape) \n",
    "# (506, 13) 506 samples, 13 attributess \n",
    "\n",
    "\n",
    "mtarget = df.target \n",
    "print(mtarget[:3])"
   ]
  },
  {
   "cell_type": "code",
   "execution_count": 102,
   "metadata": {},
   "outputs": [
    {
     "data": {
      "text/plain": [
       "dict_keys(['data', 'target', 'feature_names', 'DESCR', 'filename'])"
      ]
     },
     "execution_count": 102,
     "metadata": {},
     "output_type": "execute_result"
    }
   ],
   "source": [
    "df.keys()"
   ]
  },
  {
   "cell_type": "code",
   "execution_count": 103,
   "metadata": {},
   "outputs": [
    {
     "name": "stdout",
     "output_type": "stream",
     "text": [
      "[6.575 6.421 7.185] (490,)\n",
      "[24.  21.6 34.7] (490,)\n"
     ]
    }
   ],
   "source": [
    "# 1.1 规范数据 \n",
    "# >= 50w all remove \n",
    "mdata = mdata[mtarget < 50]\n",
    "mtarget = mtarget[mtarget < 50]\n",
    "print(mdata[:3], mdata.shape) \n",
    "print(mtarget[:3], mtarget.shape)"
   ]
  },
  {
   "cell_type": "code",
   "execution_count": 104,
   "metadata": {},
   "outputs": [
    {
     "data": {
      "text/plain": [
       "367"
      ]
     },
     "execution_count": 104,
     "metadata": {},
     "output_type": "execute_result"
    }
   ],
   "source": [
    "# 1.2 split into train and test \n",
    "from sklearn.model_selection import train_test_split \n",
    "X_train, X_test, y_train, y_test = train_test_split(mdata, mtarget) \n",
    "len(X_train)"
   ]
  },
  {
   "cell_type": "code",
   "execution_count": 105,
   "metadata": {},
   "outputs": [
    {
     "data": {
      "text/plain": [
       "367"
      ]
     },
     "execution_count": 105,
     "metadata": {},
     "output_type": "execute_result"
    }
   ],
   "source": [
    "len(y_train)"
   ]
  },
  {
   "cell_type": "code",
   "execution_count": 106,
   "metadata": {},
   "outputs": [
    {
     "data": {
      "text/plain": [
       "(123,)"
      ]
     },
     "execution_count": 106,
     "metadata": {},
     "output_type": "execute_result"
    }
   ],
   "source": [
    "X_test.shape"
   ]
  },
  {
   "cell_type": "code",
   "execution_count": 107,
   "metadata": {},
   "outputs": [
    {
     "data": {
      "text/plain": [
       "<matplotlib.collections.PathCollection at 0x1a1ded0150>"
      ]
     },
     "execution_count": 107,
     "metadata": {},
     "output_type": "execute_result"
    },
    {
     "data": {
      "image/png": "[encoded data removed]",
      "text/plain": [
       "<Figure size 432x288 with 1 Axes>"
      ]
     },
     "metadata": {
      "needs_background": "light"
     },
     "output_type": "display_data"
    }
   ],
   "source": [
    "# 1.3 plot \n",
    "plt.scatter(X_train, y_train, color = 'b')"
   ]
  },
  {
   "cell_type": "code",
   "execution_count": 108,
   "metadata": {},
   "outputs": [],
   "source": [
    "# 2 use Simple linear regression \n",
    "# first initialize the class \n",
    "ln = SimLinear() \n",
    "ln.fit(X_train, y_train) "
   ]
  },
  {
   "cell_type": "code",
   "execution_count": 109,
   "metadata": {},
   "outputs": [
    {
     "data": {
      "text/plain": [
       "array([22.35515661,  7.28474775, 21.23974806, 20.59528979, 17.08381842,\n",
       "       22.61954975, 25.42872684, 19.11634067, 20.06650351, 24.39594115,\n",
       "       21.6198132 , 15.96840987, 20.94230578, 10.26743283, 14.78690304,\n",
       "       18.59581668, 21.59502634, 22.12381262, 24.68512114, 27.89915023,\n",
       "       19.19896353, 20.5870275 , 17.7282767 , 20.86794521, 18.62060354,\n",
       "       24.62728514, 28.99803421, 22.99961489, 20.35568351, 23.28879488,\n",
       "       19.38073381, 18.90978353, 17.05076928, 22.84263146, 21.88420634,\n",
       "       11.03582539, 23.08223774, 29.98950848, 15.00998475,  6.03714263,\n",
       "       19.57076638, 25.52787427, 18.59581668, 22.76827089, 18.17444012,\n",
       "        1.86468842, 29.00629649, 22.08250119, 23.31358174, 24.767744  ,\n",
       "       23.7349583 , 27.31252795, 29.4607222 , 21.58676406, 18.56276754,\n",
       "       26.62675825, 22.12381262, 25.70964455, 33.49271755, 26.26321769,\n",
       "       14.59687047, 26.71764339, 20.20696237, 14.14244476, 15.02650932,\n",
       "       17.26558871, 21.3306332 , 18.99240639, 21.19017435, 16.52198301,\n",
       "       31.53455588, 18.28184983, 34.83120782, 14.67949333, 25.81705427,\n",
       "       29.73337762, 34.55855239, 25.52787427, 19.85994637, 21.04971549,\n",
       "       10.95320254, 10.48225226, 23.61102402, 25.6270217 , 16.35673729,\n",
       "       22.1320749 , 19.82689723, 17.7861127 , 21.97509148, 21.13233835,\n",
       "       25.27174342, 20.09129037, 17.14991671, 25.08997314, 12.53956136,\n",
       "       23.14007374, 22.60302518, 24.767744  , 20.71096179, 22.4790909 ,\n",
       "       23.1070246 , 30.48524561, 19.28984867, 13.50624878, 22.73522175,\n",
       "       20.85968293, 16.44762244, 13.77064191, 24.05718744, 16.28237672,\n",
       "       17.14991671, 22.09902576, 19.55424181, 31.03055646, 23.52840116,\n",
       "       21.41325606, 19.74427438, 32.82347242, 22.96656575, 19.36420924,\n",
       "       19.16591439, 19.50466809, 18.89325896])"
      ]
     },
     "execution_count": 109,
     "metadata": {},
     "output_type": "execute_result"
    }
   ],
   "source": [
    "ln.predict(X_test)"
   ]
  },
  {
   "cell_type": "code",
   "execution_count": 110,
   "metadata": {},
   "outputs": [
    {
     "data": {
      "text/plain": [
       "-30.052520717968378"
      ]
     },
     "execution_count": 110,
     "metadata": {},
     "output_type": "execute_result"
    }
   ],
   "source": [
    "ln._b"
   ]
  },
  {
   "cell_type": "code",
   "execution_count": 111,
   "metadata": {},
   "outputs": [
    {
     "data": {
      "text/plain": [
       "[<matplotlib.lines.Line2D at 0x1a1dfe0ad0>]"
      ]
     },
     "execution_count": 111,
     "metadata": {},
     "output_type": "execute_result"
    },
    {
     "data": {
      "image/png": "[encoded data removed]",
      "text/plain": [
       "<Figure size 432x288 with 1 Axes>"
      ]
     },
     "metadata": {
      "needs_background": "light"
     },
     "output_type": "display_data"
    }
   ],
   "source": [
    "# plot Best fit line \n",
    "plt.scatter(X_train, y_train, color = 'b')\n",
    "plt.scatter(X_test, y_test, color=\"c\")\n",
    "plt.plot(X_train, ln._a * X_train + ln._b, color = 'r') "
   ]
  },
  {
   "cell_type": "code",
   "execution_count": 112,
   "metadata": {},
   "outputs": [],
   "source": [
    "# 3. 獲取predicted value \n",
    "pre = ln.predict(X_test) "
   ]
  },
  {
   "cell_type": "code",
   "execution_count": 113,
   "metadata": {},
   "outputs": [
    {
     "name": "stdout",
     "output_type": "stream",
     "text": [
      "mse:33.19186562803331, rmse:5.7612382026812, mae:4.11505108243741\n"
     ]
    }
   ],
   "source": [
    "# 4. 性能評測 evaluate the model \n",
    "x1 = SimLinear.mse(pre, y_test) \n",
    "x2 = SimLinear.rmse(pre, y_test)\n",
    "x3 = SimLinear.mae(pre, y_test) \n",
    "print(f'mse:{x1}, rmse:{x2}, mae:{x3}')"
   ]
  },
  {
   "cell_type": "code",
   "execution_count": 114,
   "metadata": {},
   "outputs": [
    {
     "name": "stdout",
     "output_type": "stream",
     "text": [
      "33.19186562803331, 4.11505108243741\n"
     ]
    }
   ],
   "source": [
    "# mean squared error, mean_absolute error using packages \n",
    "y1 = mean_squared_error(y_test, pre)\n",
    "y2 = mean_absolute_error(y_test, pre)\n",
    "print(f'{y1}, {y2}')"
   ]
  },
  {
   "cell_type": "code",
   "execution_count": 115,
   "metadata": {},
   "outputs": [
    {
     "data": {
      "text/plain": [
       "5.7612382026812"
      ]
     },
     "execution_count": 115,
     "metadata": {},
     "output_type": "execute_result"
    }
   ],
   "source": [
    "#rmse\n",
    "import math\n",
    "math.sqrt(y1)"
   ]
  },
  {
   "cell_type": "code",
   "execution_count": 116,
   "metadata": {},
   "outputs": [
    {
     "data": {
      "text/plain": [
       "0.48097369546663726"
      ]
     },
     "execution_count": 116,
     "metadata": {},
     "output_type": "execute_result"
    }
   ],
   "source": [
    "# 4.rsquared \n",
    "r2 = 1 - y1/np.var(y_test)\n",
    "r2"
   ]
  },
  {
   "cell_type": "code",
   "execution_count": 117,
   "metadata": {},
   "outputs": [
    {
     "data": {
      "text/plain": [
       "0.48097369546663726"
      ]
     },
     "execution_count": 117,
     "metadata": {},
     "output_type": "execute_result"
    }
   ],
   "source": [
    "# use r2_score from metrics 包\n",
    "r3 = r2_score(y_test, pre) \n",
    "r3"
   ]
  },
  {
   "cell_type": "markdown",
   "metadata": {},
   "source": [
    "## Multiple Linear Regression "
   ]
  },
  {
   "cell_type": "code",
   "execution_count": 118,
   "metadata": {},
   "outputs": [],
   "source": [
    "import numpy as np \n",
    "import pandas as pd \n",
    "from sklearn import datasets\n",
    "from sklearn.model_selection import train_test_split \n",
    "from sklearn.metrics import mean_squared_error, mean_absolute_error, r2_score\n",
    " \n",
    "df = datasets.load_boston() \n",
    "mdata = df.data \n",
    "mdata\n",
    "mtarget = df.target"
   ]
  },
  {
   "cell_type": "code",
   "execution_count": 119,
   "metadata": {},
   "outputs": [
    {
     "name": "stdout",
     "output_type": "stream",
     "text": [
      "(490, 13) (490,)\n"
     ]
    }
   ],
   "source": [
    "# 1. remove unreasonable data \n",
    "mdata = mdata[mtarget < 50] \n",
    "mtarget = mtarget[mtarget<50]  \n",
    "print(mdata.shape, mtarget.shape)"
   ]
  },
  {
   "cell_type": "code",
   "execution_count": 120,
   "metadata": {},
   "outputs": [
    {
     "name": "stdout",
     "output_type": "stream",
     "text": [
      "(367, 13) (123, 13)\n"
     ]
    }
   ],
   "source": [
    "# 2. split training and test \n",
    "X_train, X_test, y_train, y_test = train_test_split(mdata, mtarget, random_state = 666) \n",
    "print(X_train.shape, X_test.shape)"
   ]
  },
  {
   "cell_type": "code",
   "execution_count": 121,
   "metadata": {},
   "outputs": [
    {
     "data": {
      "text/plain": [
       "367"
      ]
     },
     "execution_count": 121,
     "metadata": {},
     "output_type": "execute_result"
    }
   ],
   "source": [
    "len(X_train)"
   ]
  },
  {
   "cell_type": "markdown",
   "metadata": {},
   "source": [
    "### Note: \n",
    "    1. X_train is a 367 by 13 dimension, with no 1 column .367 is observation number \n",
    "    2. X_test is a 123 by 13 dim, 123 is observation number. "
   ]
  },
  {
   "cell_type": "code",
   "execution_count": 122,
   "metadata": {},
   "outputs": [],
   "source": [
    "class MultiLinearRegression: \n",
    "    def __init__(self): \n",
    "        '''初始化 沒必要加'''\n",
    "        self.coef_ = None \n",
    "        self.theta_ = None \n",
    "        self.interp_ = None \n",
    "    \n",
    "    def fit(self, x_train, y_train):   #x_train 小寫就可以，因為是代表傳進去的parameter\n",
    "        '''\n",
    "        function: train the training dataset and their response \n",
    "        to get the parameters of the model\n",
    "        theta 值是從training data pair 訓練得出來的 \n",
    "        根据训练数据集X_train，y_train 训练Linear Regression模型\n",
    "        ：param x_train: training dataset \n",
    "        : param y_train: training response \n",
    "        :return: self\n",
    "        '''\n",
    "        # 生成X_b matrix, adding the all-1 column \n",
    "        one = np.ones((len(x_train), 1))   # double brackets !!!!  \n",
    "        x_b = np.hstack([one, x_train])    # horizontal 橫著左右合併, [...] in between  \n",
    "        # calculate the parameter vector - Theta using (least squared error) formula \n",
    "        # np.linalg.inv ()  get inverse \n",
    "        \n",
    "        self.theta_ = (np.linalg.inv((x_b.T).dot(x_b))).dot(x_b.T).dot(y_train)\n",
    "        print(f'所有theta:{self.theta_}')\n",
    "        print(type(self.theta_))           # numpy array \n",
    "        # self.theta_ is a np.array\n",
    "        # theta as intercept, before the 1 term\n",
    "        self.interp_ = self.theta_[0] \n",
    "        # theta before explanatory variables \n",
    "        self.coe_ = self.theta_[1:]\n",
    "        return self \n",
    "    \n",
    "    def predict(self, x_test): \n",
    "        '''\n",
    "        function: return predicted value y \n",
    "        :param x_test: test value, value to predict \n",
    "        :return: predicted value\n",
    "        '''\n",
    "        # again add the all-1 column to the xvalue for prediction  \n",
    "        ones = np.ones((len(x_test), 1))     # double brackets \n",
    "        test_b = np.hstack([ones, x_test])\n",
    "        # return predicted \n",
    "        y_pred = test_b.dot(self.theta_)    # order does not matter \n",
    "        return y_pred\n",
    "    \n",
    "    def score(self, x_test, y_test): \n",
    "        ''' \n",
    "        function: to test how well our model fits \n",
    "        :param x_test: test data \n",
    "        :param y_test: true response for test data \n",
    "        '''\n",
    "        y_pred = self.predict(x_test) \n",
    "        # r_2 \n",
    "        mse = (np.sum((y_test - y_pred)**2))/len(y_test)\n",
    "        # by simplified r_squared formula \n",
    "        r_2 = 1 - mse/np.var(y_test) \n",
    "        return r_2 \n"
   ]
  },
  {
   "cell_type": "code",
   "execution_count": 123,
   "metadata": {},
   "outputs": [
    {
     "data": {
      "text/plain": [
       "array([[0, 1, 2],\n",
       "       [3, 4, 5]])"
      ]
     },
     "execution_count": 123,
     "metadata": {},
     "output_type": "execute_result"
    }
   ],
   "source": [
    "a = np.arange(6).reshape(2,-1)\n",
    "a"
   ]
  },
  {
   "cell_type": "code",
   "execution_count": 124,
   "metadata": {},
   "outputs": [
    {
     "data": {
      "text/plain": [
       "array([[0],\n",
       "       [1],\n",
       "       [2]])"
      ]
     },
     "execution_count": 124,
     "metadata": {},
     "output_type": "execute_result"
    }
   ],
   "source": [
    "b = np.arange(3).reshape(3,-1)\n",
    "b"
   ]
  },
  {
   "cell_type": "code",
   "execution_count": 125,
   "metadata": {},
   "outputs": [
    {
     "data": {
      "text/plain": [
       "array([[ 5],\n",
       "       [14]])"
      ]
     },
     "execution_count": 125,
     "metadata": {},
     "output_type": "execute_result"
    }
   ],
   "source": [
    "a.dot(b)"
   ]
  },
  {
   "cell_type": "markdown",
   "metadata": {},
   "source": [
    "## Sklearn multiple linear regression "
   ]
  },
  {
   "cell_type": "code",
   "execution_count": 126,
   "metadata": {},
   "outputs": [],
   "source": [
    "from sklearn.linear_model import LinearRegression"
   ]
  },
  {
   "cell_type": "code",
   "execution_count": 127,
   "metadata": {},
   "outputs": [],
   "source": [
    "X_train, X_test,y_train, y_test = train_test_split(mdata, mtarget,random_state = 6) "
   ]
  },
  {
   "cell_type": "code",
   "execution_count": 128,
   "metadata": {},
   "outputs": [
    {
     "name": "stdout",
     "output_type": "stream",
     "text": [
      "intercept: 37.2257043753111, explanotory:[-1.05577445e-01  4.66160820e-02 -1.92280453e-02  8.40970893e-01\n",
      " -1.52644876e+01  3.56227986e+00 -2.22848769e-02 -1.39770848e+00\n",
      "  2.79730722e-01 -1.49871566e-02 -8.96601592e-01  7.16411874e-03\n",
      " -3.79648211e-01]\n"
     ]
    }
   ],
   "source": [
    "# train \n",
    "mg = LinearRegression() \n",
    "mg.fit(X_train, y_train) \n",
    "print(f'intercept: {mg.intercept_}, explanotory:{mg.coef_}')"
   ]
  },
  {
   "cell_type": "code",
   "execution_count": 129,
   "metadata": {},
   "outputs": [
    {
     "data": {
      "text/plain": [
       "array([26.72686748, 14.07326692, 15.90517715, 22.16539355,  8.8035371 ,\n",
       "       30.63582605, 21.71073442, 34.95582661, 24.38783803, 26.03168567,\n",
       "       19.53666191, 23.94991603, 20.23259517, 32.61760598, 32.35929864,\n",
       "       28.11544936, 30.41514642, 22.72987574, 20.77637709, 17.14250326,\n",
       "       15.92390214, 22.08159355, 20.69144803, 14.10429827, 31.66001472,\n",
       "       12.78082672, 23.04184715, 20.62000224, 28.17683618, 33.99622229,\n",
       "       19.42226701, 17.35560606, 13.38995036, 14.29075311, 13.08520484,\n",
       "        7.28055422, 12.7647871 , 28.15104417,  6.97555203, 13.94616867,\n",
       "       24.8116627 , 29.40529318, 29.18961213, 32.31156361, 36.25799036,\n",
       "       21.73485901, 21.40114515, 23.2216842 , 23.83014829, 21.3825042 ,\n",
       "       29.66249918, 27.11422913, 19.19121029, 27.83440825, 24.45531317,\n",
       "       22.95609204, 27.10134636, 16.11298263, 24.45720552,  6.08787337,\n",
       "       29.69208924, 20.73374682, 11.33725621, 22.43412335, 18.08126581,\n",
       "       20.04395947, 34.56823209, 23.43533775, 18.30095549, 34.22559786,\n",
       "       18.70168938, 24.61488916, 32.87544645, 18.22763501, 13.87317376,\n",
       "       28.74941644, 23.76648614, 12.81457963, 31.71325991, 28.38549511,\n",
       "       19.49939868, 32.38232599,  6.82064494, 20.49784673, 25.01920814,\n",
       "       21.09020599, 21.63484109, 18.2757698 , 27.79303198, 17.98156791,\n",
       "       20.90966171, 18.67307658, 11.57649013, 22.32861132, 19.19628066,\n",
       "       31.16601358, 24.78319906, 24.55419004, 21.62471804, 11.53814509,\n",
       "       24.33676636, 26.66949754, 21.89546395, 25.0242513 , 21.76341889,\n",
       "       11.37641498, 16.6537457 , 25.04628125, 26.08001391, 21.74428682,\n",
       "       21.24539358, 17.23069495, 22.69048041, 26.09818124, 23.31113334,\n",
       "        4.62751354, 16.22199414, 20.18338755, 27.52945466, 20.3018565 ,\n",
       "       26.59457066, 26.77318679, 23.06092511])"
      ]
     },
     "execution_count": 129,
     "metadata": {},
     "output_type": "execute_result"
    }
   ],
   "source": [
    "# predict \n",
    "pred = mg.predict(X_test)\n",
    "pred"
   ]
  },
  {
   "cell_type": "code",
   "execution_count": 130,
   "metadata": {},
   "outputs": [
    {
     "name": "stdout",
     "output_type": "stream",
     "text": [
      "测试R_2得分：0.7356551504057156\n"
     ]
    }
   ],
   "source": [
    "# r squared score \n",
    "sc = r2_score(y_test, pred)\n",
    "print(f'测试R_2得分：{sc}')"
   ]
  },
  {
   "cell_type": "markdown",
   "metadata": {},
   "source": [
    "## KNN regressor 归一化 （Normalization) "
   ]
  },
  {
   "cell_type": "code",
   "execution_count": 131,
   "metadata": {},
   "outputs": [
    {
     "data": {
      "text/plain": [
       "StandardScaler(copy=True, with_mean=True, with_std=True)"
      ]
     },
     "execution_count": 131,
     "metadata": {},
     "output_type": "execute_result"
    }
   ],
   "source": [
    "from sklearn.preprocessing import StandardScaler\n",
    "# create normalized object \n",
    "sca = StandardScaler() \n",
    "# fit model \n",
    "sca.fit(X_train, y_train)"
   ]
  },
  {
   "cell_type": "code",
   "execution_count": 132,
   "metadata": {},
   "outputs": [],
   "source": [
    "# now model is already fitted, we normalize the data \n",
    "X_train_norm = sca.transform(X_train) \n",
    "X_test_norm = sca.transform(X_test)"
   ]
  },
  {
   "cell_type": "markdown",
   "metadata": {},
   "source": [
    "# why not normalize y? "
   ]
  },
  {
   "cell_type": "code",
   "execution_count": 133,
   "metadata": {},
   "outputs": [
    {
     "name": "stdout",
     "output_type": "stream",
     "text": [
      "KNeighborsRegressor score: 0.8039422319009865\n"
     ]
    }
   ],
   "source": [
    "# now use a new method: KN regression \n",
    "from sklearn.neighbors import KNeighborsRegressor\n",
    "kng = KNeighborsRegressor() \n",
    "kng.fit(X_train_norm, y_train) \n",
    "ks = kng.score(X_test_norm, y_test)     \n",
    "#note: parameters diff from r2_score (y_test, pred)\n",
    "\n",
    "print(f'KNeighborsRegressor score: {ks}')"
   ]
  },
  {
   "cell_type": "markdown",
   "metadata": {},
   "source": [
    "## conclude \n",
    "- 已经normalization \n",
    "- R square still 0.8, not bigger than before, not better "
   ]
  },
  {
   "cell_type": "markdown",
   "metadata": {},
   "source": [
    "## GridSearch 获得KNN 相关最优超参数 \n",
    "- MLR 中的参数  theta 优化不了\n",
    "- 只能优化 超参数 "
   ]
  },
  {
   "cell_type": "code",
   "execution_count": 134,
   "metadata": {},
   "outputs": [],
   "source": [
    "# create GridSearchCV instance \n",
    "# 确定 最优化超参数 算法\n",
    "from sklearn.model_selection import GridSearchCV\n",
    "\n",
    "param_grid = [\n",
    "    {\n",
    "        \"weights\": [\"uniform\"],\n",
    "        \"n_neighbors\": [i for i in range(1, 11)]\n",
    "    },\n",
    "    {\n",
    "        \"weights\": [\"distance\"],\n",
    "        \"n_neighbors\": [i for i in range(1, 11)],\n",
    "        \"p\": [i for i in range(1,6)]\n",
    "    }\n",
    "]\n",
    "\n",
    "\n",
    "from sklearn.linear_model import LinearRegression\n",
    "\n",
    "# only apply to KNeighborsRegressor case 会有超参数 \n",
    "xt = KNeighborsRegressor()     # use package from sklearn\n",
    "gs = GridSearchCV(xt, param_grid,\n",
    "                  n_jobs = -1, \n",
    "                  verbose = 1) "
   ]
  },
  {
   "cell_type": "code",
   "execution_count": 135,
   "metadata": {},
   "outputs": [
    {
     "name": "stdout",
     "output_type": "stream",
     "text": [
      "Fitting 5 folds for each of 60 candidates, totalling 300 fits\n"
     ]
    },
    {
     "name": "stderr",
     "output_type": "stream",
     "text": [
      "[Parallel(n_jobs=-1)]: Using backend LokyBackend with 4 concurrent workers.\n",
      "[Parallel(n_jobs=-1)]: Done  68 tasks      | elapsed:    1.8s\n",
      "[Parallel(n_jobs=-1)]: Done 300 out of 300 | elapsed:    2.2s finished\n"
     ]
    },
    {
     "data": {
      "text/plain": [
       "GridSearchCV(cv=None, error_score=nan,\n",
       "             estimator=KNeighborsRegressor(algorithm='auto', leaf_size=30,\n",
       "                                           metric='minkowski',\n",
       "                                           metric_params=None, n_jobs=None,\n",
       "                                           n_neighbors=5, p=2,\n",
       "                                           weights='uniform'),\n",
       "             iid='deprecated', n_jobs=-1,\n",
       "             param_grid=[{'n_neighbors': [1, 2, 3, 4, 5, 6, 7, 8, 9, 10],\n",
       "                          'weights': ['uniform']},\n",
       "                         {'n_neighbors': [1, 2, 3, 4, 5, 6, 7, 8, 9, 10],\n",
       "                          'p': [1, 2, 3, 4, 5], 'weights': ['distance']}],\n",
       "             pre_dispatch='2*n_jobs', refit=True, return_train_score=False,\n",
       "             scoring=None, verbose=1)"
      ]
     },
     "execution_count": 135,
     "metadata": {},
     "output_type": "execute_result"
    }
   ],
   "source": [
    "# train gridsearch model \n",
    "# X_train is the normalized training set \n",
    "gs.fit(X_train_norm, y_train)"
   ]
  },
  {
   "cell_type": "code",
   "execution_count": 136,
   "metadata": {},
   "outputs": [
    {
     "name": "stdout",
     "output_type": "stream",
     "text": [
      "最优超参数: {'n_neighbors': 3, 'p': 3, 'weights': 'distance'}\n"
     ]
    }
   ],
   "source": [
    "# after training, we get the best optimized 超参数 parameter \n",
    "print (f'最优超参数: {gs.best_params_}')"
   ]
  },
  {
   "cell_type": "code",
   "execution_count": 137,
   "metadata": {},
   "outputs": [],
   "source": [
    "# 得到最优超参数 的linear regression model \n",
    "best_lr = gs.best_estimator_ "
   ]
  },
  {
   "cell_type": "code",
   "execution_count": 138,
   "metadata": {},
   "outputs": [
    {
     "name": "stdout",
     "output_type": "stream",
     "text": [
      "最优化超参数KNeighborsRegressors 算法score:0.8089047666775495\n"
     ]
    }
   ],
   "source": [
    "# now get score \n",
    "sc = best_lr.score(X_test_norm, y_test)\n",
    "print(f'最优化超参数KNeighborsRegressors 算法score:{sc}') "
   ]
  },
  {
   "cell_type": "markdown",
   "metadata": {},
   "source": [
    "## 线性回归参数的可解释性"
   ]
  },
  {
   "cell_type": "code",
   "execution_count": 139,
   "metadata": {},
   "outputs": [
    {
     "data": {
      "text/plain": [
       "array([-1.05577445e-01,  4.66160820e-02, -1.92280453e-02,  8.40970893e-01,\n",
       "       -1.52644876e+01,  3.56227986e+00, -2.22848769e-02, -1.39770848e+00,\n",
       "        2.79730722e-01, -1.49871566e-02, -8.96601592e-01,  7.16411874e-03,\n",
       "       -3.79648211e-01])"
      ]
     },
     "execution_count": 139,
     "metadata": {},
     "output_type": "execute_result"
    }
   ],
   "source": [
    "# mg 是 sklearn 的 linear regression 训练结果\n",
    "mg.coef_"
   ]
  },
  {
   "cell_type": "code",
   "execution_count": 140,
   "metadata": {},
   "outputs": [
    {
     "data": {
      "text/plain": [
       "array([ 4,  7, 10, 12,  0,  6,  2,  9, 11,  1,  8,  3,  5])"
      ]
     },
     "execution_count": 140,
     "metadata": {},
     "output_type": "execute_result"
    }
   ],
   "source": [
    "# 对特征参数进行索引排序 \n",
    "si = np.argsort(mg.coef_)\n",
    "si"
   ]
  },
  {
   "cell_type": "code",
   "execution_count": 141,
   "metadata": {},
   "outputs": [
    {
     "data": {
      "text/plain": [
       "array(['NOX', 'DIS', 'PTRATIO', 'LSTAT', 'CRIM', 'AGE', 'INDUS', 'TAX',\n",
       "       'B', 'ZN', 'RAD', 'CHAS', 'RM'], dtype='<U7')"
      ]
     },
     "execution_count": 141,
     "metadata": {},
     "output_type": "execute_result"
    }
   ],
   "source": [
    "# df is boston data \n",
    "df.feature_names[np.argsort(mg.coef_)]"
   ]
  },
  {
   "cell_type": "code",
   "execution_count": 142,
   "metadata": {},
   "outputs": [],
   "source": [
    "# print (df.DESCR)"
   ]
  }
 ],
 "metadata": {
  "kernelspec": {
   "display_name": "Python 3",
   "language": "python",
   "name": "python3"
  },
  "language_info": {
   "codemirror_mode": {
    "name": "ipython",
    "version": 3
   },
   "file_extension": ".py",
   "mimetype": "text/x-python",
   "name": "python",
   "nbconvert_exporter": "python",
   "pygments_lexer": "ipython3",
   "version": "3.7.6"
  }
 },
 "nbformat": 4,
 "nbformat_minor": 4
}
